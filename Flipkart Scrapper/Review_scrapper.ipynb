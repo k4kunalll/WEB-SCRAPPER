{
 "cells": [
  {
   "cell_type": "markdown",
   "metadata": {},
   "source": [
    "# Review Scrapper"
   ]
  },
  {
   "cell_type": "code",
   "execution_count": 221,
   "metadata": {},
   "outputs": [],
   "source": [
    "import requests\n",
    "from bs4 import BeautifulSoup as bs\n",
    "from urllib.request import urlopen as uReq"
   ]
  },
  {
   "cell_type": "code",
   "execution_count": 239,
   "metadata": {},
   "outputs": [],
   "source": [
    "searchstr = \"bournvita\""
   ]
  },
  {
   "cell_type": "code",
   "execution_count": 240,
   "metadata": {},
   "outputs": [],
   "source": [
    "flipkart_url = \"https://www.flipkart.com/search?q=\" + searchstr"
   ]
  },
  {
   "cell_type": "code",
   "execution_count": 241,
   "metadata": {},
   "outputs": [],
   "source": [
    "uClient = uReq(flipkart_url)    #requesting the webpage from internet\n",
    "flipkartPage = uClient.read()   #reading the webpage\n",
    "uClient.close()                 #connection close"
   ]
  },
  {
   "cell_type": "code",
   "execution_count": 242,
   "metadata": {},
   "outputs": [],
   "source": [
    "flipkart_html = bs(flipkartPage, \"html.parser\")     #parsing the webpage as html"
   ]
  },
  {
   "cell_type": "code",
   "execution_count": 243,
   "metadata": {},
   "outputs": [],
   "source": [
    "bigboxers = flipkart_html.findAll(\"div\",{\"class\":\"bhgxx2 col-12-12\"})"
   ]
  },
  {
   "cell_type": "code",
   "execution_count": 244,
   "metadata": {},
   "outputs": [],
   "source": [
    "del bigboxers[0:3]   #remove unnecessary boxes\n",
    "box = bigboxers[0]"
   ]
  },
  {
   "cell_type": "code",
   "execution_count": 245,
   "metadata": {},
   "outputs": [
    {
     "data": {
      "text/plain": [
       "'https://www.flipkart.com/cadbury-bournvita-pro-health-vitamins/p/itmf9bmpk9fehjhv?pid=MDMETGN5XTYUENFH&lid=LSTMDMETGN5XTYUENFHJSO23M&marketplace=FLIPKART&spotlightTagId=BestsellerId_7jv&srno=s_1_5&otracker=search&fm=organic&iid=2d74dc41-820c-4f49-b407-f4724cb06f0c.MDMETGN5XTYUENFH.SEARCH&ssid=87l68kog800000001590996215004&qH=6ddf7522c40692fe'"
      ]
     },
     "execution_count": 245,
     "metadata": {},
     "output_type": "execute_result"
    }
   ],
   "source": [
    "productLink = \"https://www.flipkart.com\" + box.div.div.div.a[\"href\"]\n",
    "productLink"
   ]
  },
  {
   "cell_type": "code",
   "execution_count": 246,
   "metadata": {},
   "outputs": [],
   "source": [
    "prodRes = requests.get(productLink)\n",
    "prodRes.encoding = \"utf-8\"\n",
    "prod_html = bs(prodRes.text, \"html.parser\")"
   ]
  },
  {
   "cell_type": "code",
   "execution_count": 247,
   "metadata": {
    "scrolled": true
   },
   "outputs": [],
   "source": [
    "commentBoxes = prod_html.find_all(\"div\",{\"class\":\"_3nrCtb\"})"
   ]
  },
  {
   "cell_type": "code",
   "execution_count": 248,
   "metadata": {
    "scrolled": true
   },
   "outputs": [],
   "source": [
    "commentBox = commentBoxes[0]"
   ]
  },
  {
   "cell_type": "code",
   "execution_count": 249,
   "metadata": {},
   "outputs": [
    {
     "data": {
      "text/plain": [
       "'Eldho  V J'"
      ]
     },
     "execution_count": 249,
     "metadata": {},
     "output_type": "execute_result"
    }
   ],
   "source": [
    "username = commentBox.find_all(\"p\",{\"class\":\"_3LYOAd _3sxSiS\"})[0].text\n",
    "username"
   ]
  },
  {
   "cell_type": "code",
   "execution_count": 250,
   "metadata": {},
   "outputs": [
    {
     "data": {
      "text/plain": [
       "'Really Nice'"
      ]
     },
     "execution_count": 250,
     "metadata": {},
     "output_type": "execute_result"
    }
   ],
   "source": [
    "userHeading = commentBox.find_all(\"p\",{\"class\":\"_2xg6Ul\"})[0].text\n",
    "userHeading"
   ]
  },
  {
   "cell_type": "code",
   "execution_count": 251,
   "metadata": {},
   "outputs": [
    {
     "data": {
      "text/plain": [
       "'4'"
      ]
     },
     "execution_count": 251,
     "metadata": {},
     "output_type": "execute_result"
    }
   ],
   "source": [
    "userRating = commentBox.find_all(\"div\",{\"class\":\"hGSR34 E_uFuv\"})[0].text\n",
    "userRating"
   ]
  },
  {
   "cell_type": "code",
   "execution_count": 252,
   "metadata": {},
   "outputs": [
    {
     "data": {
      "text/plain": [
       "'👌🏼👌🏼👌🏼😍fantastic product. Better than buying from shop, comparatively low price as well as delivering at door step.READ MORE'"
      ]
     },
     "execution_count": 252,
     "metadata": {},
     "output_type": "execute_result"
    }
   ],
   "source": [
    "usercomment = commentBox.find_all(\"div\",{\"class\":\"qwjRop\"})[0].text\n",
    "usercomment"
   ]
  },
  {
   "cell_type": "code",
   "execution_count": 253,
   "metadata": {},
   "outputs": [],
   "source": [
    "name_list = []\n",
    "rating_list = []\n",
    "comment_list = []\n",
    "heading_list = []"
   ]
  },
  {
   "cell_type": "code",
   "execution_count": 254,
   "metadata": {},
   "outputs": [
    {
     "name": "stdout",
     "output_type": "stream",
     "text": [
      "No Rating\n",
      "No Rating\n",
      "No Rating\n"
     ]
    }
   ],
   "source": [
    "for i in range(0, len(commentBoxes)-1):\n",
    "    \n",
    "    commentBoxes = prod_html.find_all(\"div\",{\"class\":\"_3nrCtb\"})\n",
    "    commentBox = commentBoxes[i]\n",
    "    try:\n",
    "        username = commentBox.find_all(\"p\",{\"class\":\"_3LYOAd _3sxSiS\"})[0].text\n",
    "        name_list.append(username)\n",
    "    except:\n",
    "        print(\"No Customer Username\")\n",
    "    \n",
    "    try:\n",
    "        userHeading = commentBox.find_all(\"p\",{\"class\":\"_2xg6Ul\"})[0].text\n",
    "        heading_list.append(userHeading)\n",
    "    except:\n",
    "        print(\"No Heading\")\n",
    "    \n",
    "    try:\n",
    "        userRating = commentBox.find_all(\"div\",{\"class\":\"hGSR34 E_uFuv\"})[0].text\n",
    "        rating_list.append(userRating)\n",
    "    except:\n",
    "        print(\"No Rating\")\n",
    "        \n",
    "    try:\n",
    "        usercomment = commentBox.find_all(\"div\",{\"class\":\"qwjRop\"})[0].text\n",
    "        comment_list.append(usercomment)\n",
    "    except:\n",
    "        print(\"No Comment\")"
   ]
  },
  {
   "cell_type": "code",
   "execution_count": 255,
   "metadata": {},
   "outputs": [
    {
     "name": "stdout",
     "output_type": "stream",
     "text": [
      "\n",
      "Review No: 1\n",
      "CUSTOMER NAME: Eldho  V J\n",
      "REVIEW HEADING:  Really Nice\n",
      "RATING : 4\n",
      "COMMENT: 👌🏼👌🏼👌🏼😍fantastic product. Better than buying from shop, comparatively low price as well as delivering at door step.READ MORE\n",
      "\n",
      "Review No: 2\n",
      "CUSTOMER NAME: Imtiyaz Syed\n",
      "REVIEW HEADING:  Wonderful\n",
      "RATING : 5\n",
      "COMMENT: Good experience.READ MORE\n",
      "\n",
      "Review No: 3\n",
      "CUSTOMER NAME: NASEER AHMED\n",
      "REVIEW HEADING:  Mind-blowing purchase\n",
      "RATING : 5\n",
      "COMMENT: goodREAD MORE\n",
      "\n",
      "Review No: 4\n",
      "CUSTOMER NAME: venkanna p\n",
      "REVIEW HEADING:  Unsatisfactory\n",
      "RATING : 4\n",
      "COMMENT: This product was unsealed and taken half of the product..very disappointed after seeing this unsealed   productREAD MORE\n",
      "\n",
      "Review No: 5\n",
      "CUSTOMER NAME: Lokesh TG  Lokesh \n",
      "REVIEW HEADING:  Unsatisfactory\n",
      "RATING : 5\n",
      "COMMENT: return items bad quality health problems babyREAD MORE\n",
      "\n",
      "Review No: 6\n",
      "CUSTOMER NAME: Subrao D\n",
      "REVIEW HEADING:  Don't waste your money\n",
      "RATING : 5\n",
      "COMMENT: Powder quality very badREAD MORE\n",
      "\n",
      "Review No: 7\n",
      "CUSTOMER NAME: Kannan Kasi\n",
      "REVIEW HEADING:  Delightful\n",
      "RATING : 4\n",
      "COMMENT: GoodREAD MORE\n",
      "\n",
      "Review No: 8\n",
      "CUSTOMER NAME: Jency  Augustine \n",
      "REVIEW HEADING:  Perfect product!\n",
      "RATING : --NO RATING--\n",
      "COMMENT: NiceREAD MORE\n",
      "\n",
      "Review No: 9\n",
      "CUSTOMER NAME: ABHISHEK SARSWAT \n",
      "REVIEW HEADING:  Super!\n",
      "RATING : --NO RATING--\n",
      "COMMENT: goodREAD MORE\n",
      "\n",
      "Review No: 10\n",
      "CUSTOMER NAME: SATHYANARAYANAN  SUBRAMANIAN \n",
      "REVIEW HEADING:  Really Nice\n",
      "RATING : --NO RATING--\n",
      "COMMENT: Good for HealthREAD MORE\n"
     ]
    }
   ],
   "source": [
    "for i in range(len(name_list)):\n",
    "    print(\"\\nReview No:\",i+1)\n",
    "    \n",
    "    try:\n",
    "        print(\"CUSTOMER NAME: \" + name_list[i])\n",
    "    except:\n",
    "        print(\"CUSTOMER NAME: --NO NAME--\")\n",
    "    try:\n",
    "        print(\"REVIEW HEADING: \", heading_list[i])\n",
    "    except:\n",
    "        print(\"REVIEW HEADING: --N0 HEADING--\")\n",
    "    try:\n",
    "        print(\"RATING : \" + rating_list[i])\n",
    "    except:\n",
    "        print(\"RATING : --NO RATING--\")\n",
    "    try:\n",
    "        print(\"COMMENT: \" + comment_list[i])\n",
    "    except:\n",
    "        print(\"COMMENT: --NO COMMENT--\")\n",
    "        \n",
    "    "
   ]
  },
  {
   "cell_type": "code",
   "execution_count": null,
   "metadata": {},
   "outputs": [],
   "source": []
  },
  {
   "cell_type": "code",
   "execution_count": null,
   "metadata": {},
   "outputs": [],
   "source": []
  }
 ],
 "metadata": {
  "kernelspec": {
   "display_name": "Python 3",
   "language": "python",
   "name": "python3"
  },
  "language_info": {
   "codemirror_mode": {
    "name": "ipython",
    "version": 3
   },
   "file_extension": ".py",
   "mimetype": "text/x-python",
   "name": "python",
   "nbconvert_exporter": "python",
   "pygments_lexer": "ipython3",
   "version": "3.7.6"
  }
 },
 "nbformat": 4,
 "nbformat_minor": 4
}
