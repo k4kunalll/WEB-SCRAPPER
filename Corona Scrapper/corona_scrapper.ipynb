{
 "cells": [
  {
   "cell_type": "markdown",
   "metadata": {},
   "source": [
    "# CORONA WEB SCRAPPER"
   ]
  },
  {
   "cell_type": "code",
   "execution_count": 55,
   "metadata": {},
   "outputs": [],
   "source": [
    "import requests\n",
    "from bs4 import BeautifulSoup as bs\n",
    "from urllib.request import urlopen as uReq\n",
    "import os\n",
    "import time\n",
    "from selenium import webdriver "
   ]
  },
  {
   "cell_type": "code",
   "execution_count": 56,
   "metadata": {},
   "outputs": [
    {
     "name": "stderr",
     "output_type": "stream",
     "text": [
      "F:\\Anaconda\\lib\\site-packages\\ipykernel_launcher.py:6: DeprecationWarning: use options instead of firefox_options\n",
      "  \n"
     ]
    }
   ],
   "source": [
    "firefox_options = webdriver.FirefoxOptions()\n",
    "firefox_options.add_argument('--no-sandbox')\n",
    "firefox_options.add_argument('--headless')\n",
    "firefox_options.add_argument('window-size=1920,1080');\n",
    "firefox_options.add_argument('--disable-gpu')\n",
    "driver = webdriver.Firefox(firefox_options=firefox_options)"
   ]
  },
  {
   "cell_type": "code",
   "execution_count": 57,
   "metadata": {},
   "outputs": [],
   "source": [
    "site_url = \"https://www.coronatracker.com/country/india/\" "
   ]
  },
  {
   "cell_type": "code",
   "execution_count": 58,
   "metadata": {},
   "outputs": [],
   "source": [
    "uClient = uReq(site_url)    #requesting the webpage from internet\n",
    "sitePage = uClient.read()   #reading the webpage\n",
    "uClient.close()"
   ]
  },
  {
   "cell_type": "code",
   "execution_count": 59,
   "metadata": {},
   "outputs": [],
   "source": [
    "site_html = bs(sitePage, \"html.parser\")                  #parsing the webpage as html"
   ]
  },
  {
   "cell_type": "code",
   "execution_count": 60,
   "metadata": {},
   "outputs": [],
   "source": [
    "review_url = \"https://www.coronatracker.com/country/india/\"\n",
    "driver.get(review_url)\n",
    "driver.implicitly_wait(30)\n",
    "source = driver.page_source"
   ]
  },
  {
   "cell_type": "code",
   "execution_count": 61,
   "metadata": {},
   "outputs": [],
   "source": [
    "html = bs(source, \"html.parser\")  # parsing the webpage as HTML\n",
    "\n",
    "#print(html)\n",
    "\n",
    "bigboxes = html.findAll(\"div\", {\n",
    "                    \"class\": \"flex flex-wrap -mx-2\"})"
   ]
  },
  {
   "cell_type": "code",
   "execution_count": 62,
   "metadata": {},
   "outputs": [
    {
     "data": {
      "text/plain": [
       "'153,230'"
      ]
     },
     "execution_count": 62,
     "metadata": {},
     "output_type": "execute_result"
    }
   ],
   "source": [
    "confirmed_cases = bigboxes[0].find(\"p\", {\n",
    "                    \"class\": \"text-2xl font-bold text-red-600\"}).text.strip()\n",
    "confirmed_cases"
   ]
  },
  {
   "cell_type": "code",
   "execution_count": 63,
   "metadata": {},
   "outputs": [
    {
     "data": {
      "text/plain": [
       "'64,729'"
      ]
     },
     "execution_count": 63,
     "metadata": {},
     "output_type": "execute_result"
    }
   ],
   "source": [
    "recovered_cases = bigboxes[0].find(\"p\", {\n",
    "                    \"class\": \"text-2xl font-bold text-green-600\"}).text.strip()\n",
    "recovered_cases"
   ]
  },
  {
   "cell_type": "code",
   "execution_count": 64,
   "metadata": {},
   "outputs": [
    {
     "data": {
      "text/plain": [
       "'4,365'"
      ]
     },
     "execution_count": 64,
     "metadata": {},
     "output_type": "execute_result"
    }
   ],
   "source": [
    "death_cases = bigboxes[0].find(\"p\", {\n",
    "                    \"class\": \"text-2xl font-bold text-gray-600\"}).text.strip()\n",
    "death_cases"
   ]
  },
  {
   "cell_type": "code",
   "execution_count": 65,
   "metadata": {},
   "outputs": [
    {
     "data": {
      "text/plain": [
       "'8944'"
      ]
     },
     "execution_count": 65,
     "metadata": {},
     "output_type": "execute_result"
    }
   ],
   "source": [
    "cases_icu = bigboxes[0].find(\"div\", {\n",
    "                    \"class\": \"text-gray-900 font-bold text-2xl mb-2\"}).text.strip()\n",
    "cases_icu"
   ]
  },
  {
   "cell_type": "code",
   "execution_count": 66,
   "metadata": {
    "scrolled": false
   },
   "outputs": [
    {
     "name": "stdout",
     "output_type": "stream",
     "text": [
      "!-----INDIA CORONA OVERVIEW-----!\n",
      "TOTAL CONFIRMED CASES: 153,230\n",
      "TOTAL RECOVERED CASES: 64,729\n",
      "TOTAL DEATHS: 4,365\n",
      "CRITICAL CASES TREATED IN ICU: 8944\n"
     ]
    }
   ],
   "source": [
    "print(\"!-----INDIA CORONA OVERVIEW-----!\")\n",
    "print(\"TOTAL CONFIRMED CASES:\", confirmed_cases)\n",
    "print(\"TOTAL RECOVERED CASES:\", recovered_cases)\n",
    "print(\"TOTAL DEATHS:\", death_cases)\n",
    "print(\"CRITICAL CASES TREATED IN ICU:\", cases_icu)"
   ]
  },
  {
   "cell_type": "code",
   "execution_count": 67,
   "metadata": {},
   "outputs": [
    {
     "data": {
      "text/plain": [
       "'TOTAL CONFIRMED CASES: 153,230\\nTOTAL RECOVERED CASES: 64,729\\nTOTAL DEATHS: 4,365\\nCRITICAL CASES TREATED IN ICU: 8944'"
      ]
     },
     "execution_count": 67,
     "metadata": {},
     "output_type": "execute_result"
    }
   ],
   "source": [
    "message = \"TOTAL CONFIRMED CASES: \" + confirmed_cases + \"\\nTOTAL RECOVERED CASES: \" + recovered_cases + \"\\nTOTAL DEATHS: \" + death_cases + \"\\nCRITICAL CASES TREATED IN ICU: \" + cases_icu                                    \n",
    "message"
   ]
  },
  {
   "cell_type": "code",
   "execution_count": 68,
   "metadata": {},
   "outputs": [
    {
     "data": {
      "text/plain": [
       "True"
      ]
     },
     "execution_count": 68,
     "metadata": {},
     "output_type": "execute_result"
    }
   ],
   "source": [
    "from win10toast import ToastNotifier\n",
    "toaster = ToastNotifier()\n",
    "toaster.show_toast(title = \"!-----INDIA CORONA OVERVIEW-----!\",\n",
    "                   msg = message,\n",
    "                   icon_path = None,\n",
    "                   duration=10)"
   ]
  }
 ],
 "metadata": {
  "kernelspec": {
   "display_name": "Python 3",
   "language": "python",
   "name": "python3"
  },
  "language_info": {
   "codemirror_mode": {
    "name": "ipython",
    "version": 3
   },
   "file_extension": ".py",
   "mimetype": "text/x-python",
   "name": "python",
   "nbconvert_exporter": "python",
   "pygments_lexer": "ipython3",
   "version": "3.7.6"
  }
 },
 "nbformat": 4,
 "nbformat_minor": 4
}
